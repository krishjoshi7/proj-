{
 "cells": [
  {
   "cell_type": "code",
   "execution_count": 126,
   "id": "82edb3d3",
   "metadata": {},
   "outputs": [],
   "source": [
    "import pandas as pd "
   ]
  },
  {
   "cell_type": "code",
   "execution_count": 127,
   "id": "cfee7c19",
   "metadata": {},
   "outputs": [],
   "source": [
    "df = pd.read_csv('spotify_millsongdata.csv')"
   ]
  },
  {
   "cell_type": "code",
   "execution_count": 128,
   "id": "0bd77e07",
   "metadata": {},
   "outputs": [
    {
     "data": {
      "text/html": [
       "<div>\n",
       "<style scoped>\n",
       "    .dataframe tbody tr th:only-of-type {\n",
       "        vertical-align: middle;\n",
       "    }\n",
       "\n",
       "    .dataframe tbody tr th {\n",
       "        vertical-align: top;\n",
       "    }\n",
       "\n",
       "    .dataframe thead th {\n",
       "        text-align: right;\n",
       "    }\n",
       "</style>\n",
       "<table border=\"1\" class=\"dataframe\">\n",
       "  <thead>\n",
       "    <tr style=\"text-align: right;\">\n",
       "      <th></th>\n",
       "      <th>artist</th>\n",
       "      <th>song</th>\n",
       "      <th>link</th>\n",
       "      <th>text</th>\n",
       "    </tr>\n",
       "  </thead>\n",
       "  <tbody>\n",
       "    <tr>\n",
       "      <th>0</th>\n",
       "      <td>ABBA</td>\n",
       "      <td>Ahe's My Kind Of Girl</td>\n",
       "      <td>/a/abba/ahes+my+kind+of+girl_20598417.html</td>\n",
       "      <td>Look at her face, it's a wonderful face  \\r\\nA...</td>\n",
       "    </tr>\n",
       "    <tr>\n",
       "      <th>1</th>\n",
       "      <td>ABBA</td>\n",
       "      <td>Andante, Andante</td>\n",
       "      <td>/a/abba/andante+andante_20002708.html</td>\n",
       "      <td>Take it easy with me, please  \\r\\nTouch me gen...</td>\n",
       "    </tr>\n",
       "    <tr>\n",
       "      <th>2</th>\n",
       "      <td>ABBA</td>\n",
       "      <td>As Good As New</td>\n",
       "      <td>/a/abba/as+good+as+new_20003033.html</td>\n",
       "      <td>I'll never know why I had to go  \\r\\nWhy I had...</td>\n",
       "    </tr>\n",
       "    <tr>\n",
       "      <th>3</th>\n",
       "      <td>ABBA</td>\n",
       "      <td>Bang</td>\n",
       "      <td>/a/abba/bang_20598415.html</td>\n",
       "      <td>Making somebody happy is a question of give an...</td>\n",
       "    </tr>\n",
       "    <tr>\n",
       "      <th>4</th>\n",
       "      <td>ABBA</td>\n",
       "      <td>Bang-A-Boomerang</td>\n",
       "      <td>/a/abba/bang+a+boomerang_20002668.html</td>\n",
       "      <td>Making somebody happy is a question of give an...</td>\n",
       "    </tr>\n",
       "  </tbody>\n",
       "</table>\n",
       "</div>"
      ],
      "text/plain": [
       "  artist                   song                                        link  \\\n",
       "0   ABBA  Ahe's My Kind Of Girl  /a/abba/ahes+my+kind+of+girl_20598417.html   \n",
       "1   ABBA       Andante, Andante       /a/abba/andante+andante_20002708.html   \n",
       "2   ABBA         As Good As New        /a/abba/as+good+as+new_20003033.html   \n",
       "3   ABBA                   Bang                  /a/abba/bang_20598415.html   \n",
       "4   ABBA       Bang-A-Boomerang      /a/abba/bang+a+boomerang_20002668.html   \n",
       "\n",
       "                                                text  \n",
       "0  Look at her face, it's a wonderful face  \\r\\nA...  \n",
       "1  Take it easy with me, please  \\r\\nTouch me gen...  \n",
       "2  I'll never know why I had to go  \\r\\nWhy I had...  \n",
       "3  Making somebody happy is a question of give an...  \n",
       "4  Making somebody happy is a question of give an...  "
      ]
     },
     "execution_count": 128,
     "metadata": {},
     "output_type": "execute_result"
    }
   ],
   "source": [
    "df.head()"
   ]
  },
  {
   "cell_type": "code",
   "execution_count": 129,
   "id": "68eaf989",
   "metadata": {},
   "outputs": [
    {
     "data": {
      "text/plain": [
       "artist    0\n",
       "song      0\n",
       "link      0\n",
       "text      0\n",
       "dtype: int64"
      ]
     },
     "execution_count": 129,
     "metadata": {},
     "output_type": "execute_result"
    }
   ],
   "source": [
    "df.isnull().sum()"
   ]
  },
  {
   "cell_type": "code",
   "execution_count": 130,
   "id": "8ca2dd45",
   "metadata": {
    "scrolled": true
   },
   "outputs": [],
   "source": [
    "df = df.sample(5000).drop('link', axis=1).reset_index(drop=True)"
   ]
  },
  {
   "cell_type": "code",
   "execution_count": 131,
   "id": "49b2c309",
   "metadata": {},
   "outputs": [
    {
     "data": {
      "text/html": [
       "<div>\n",
       "<style scoped>\n",
       "    .dataframe tbody tr th:only-of-type {\n",
       "        vertical-align: middle;\n",
       "    }\n",
       "\n",
       "    .dataframe tbody tr th {\n",
       "        vertical-align: top;\n",
       "    }\n",
       "\n",
       "    .dataframe thead th {\n",
       "        text-align: right;\n",
       "    }\n",
       "</style>\n",
       "<table border=\"1\" class=\"dataframe\">\n",
       "  <thead>\n",
       "    <tr style=\"text-align: right;\">\n",
       "      <th></th>\n",
       "      <th>artist</th>\n",
       "      <th>song</th>\n",
       "      <th>text</th>\n",
       "    </tr>\n",
       "  </thead>\n",
       "  <tbody>\n",
       "    <tr>\n",
       "      <th>0</th>\n",
       "      <td>Yeah Yeah Yeahs</td>\n",
       "      <td>Miles Away</td>\n",
       "      <td>As the cars go by  \\r\\nUnder the sun like an e...</td>\n",
       "    </tr>\n",
       "    <tr>\n",
       "      <th>1</th>\n",
       "      <td>Alice Cooper</td>\n",
       "      <td>Refrigerator Heaven</td>\n",
       "      <td>I'm freezing, I'm frozen, I'm icicle blue  \\r\\...</td>\n",
       "    </tr>\n",
       "    <tr>\n",
       "      <th>2</th>\n",
       "      <td>King Diamond</td>\n",
       "      <td>I'm Not A Stranger</td>\n",
       "      <td>I've been watching Lucy all week  \\r\\nI've bee...</td>\n",
       "    </tr>\n",
       "    <tr>\n",
       "      <th>3</th>\n",
       "      <td>Whitesnake</td>\n",
       "      <td>Ready To Rock</td>\n",
       "      <td>I'm getting ready to rock  \\r\\nI'm getting rea...</td>\n",
       "    </tr>\n",
       "    <tr>\n",
       "      <th>4</th>\n",
       "      <td>Genesis</td>\n",
       "      <td>Blood On The Rooftops</td>\n",
       "      <td>Dark and grey, an English film, the Wednesday ...</td>\n",
       "    </tr>\n",
       "  </tbody>\n",
       "</table>\n",
       "</div>"
      ],
      "text/plain": [
       "            artist                   song  \\\n",
       "0  Yeah Yeah Yeahs             Miles Away   \n",
       "1     Alice Cooper    Refrigerator Heaven   \n",
       "2     King Diamond     I'm Not A Stranger   \n",
       "3       Whitesnake          Ready To Rock   \n",
       "4          Genesis  Blood On The Rooftops   \n",
       "\n",
       "                                                text  \n",
       "0  As the cars go by  \\r\\nUnder the sun like an e...  \n",
       "1  I'm freezing, I'm frozen, I'm icicle blue  \\r\\...  \n",
       "2  I've been watching Lucy all week  \\r\\nI've bee...  \n",
       "3  I'm getting ready to rock  \\r\\nI'm getting rea...  \n",
       "4  Dark and grey, an English film, the Wednesday ...  "
      ]
     },
     "execution_count": 131,
     "metadata": {},
     "output_type": "execute_result"
    }
   ],
   "source": [
    "df.head()"
   ]
  },
  {
   "cell_type": "code",
   "execution_count": 132,
   "id": "be5fa9a6",
   "metadata": {},
   "outputs": [],
   "source": [
    "df = df.sample(5000)"
   ]
  },
  {
   "cell_type": "code",
   "execution_count": 133,
   "id": "37292618",
   "metadata": {},
   "outputs": [
    {
     "data": {
      "text/plain": [
       "(5000, 3)"
      ]
     },
     "execution_count": 133,
     "metadata": {},
     "output_type": "execute_result"
    }
   ],
   "source": [
    "df.shape"
   ]
  },
  {
   "cell_type": "markdown",
   "id": "ddc34540",
   "metadata": {},
   "source": [
    "Text preprocessing"
   ]
  },
  {
   "cell_type": "code",
   "execution_count": 134,
   "id": "3c200347",
   "metadata": {},
   "outputs": [],
   "source": [
    "df['text'] = df['text'].str.lower().replace(r'^\\w\\s', '').replace(r'\\n', ' ', regex=True)"
   ]
  },
  {
   "cell_type": "code",
   "execution_count": 135,
   "id": "1e45ea69",
   "metadata": {},
   "outputs": [
    {
     "data": {
      "text/html": [
       "<div>\n",
       "<style scoped>\n",
       "    .dataframe tbody tr th:only-of-type {\n",
       "        vertical-align: middle;\n",
       "    }\n",
       "\n",
       "    .dataframe tbody tr th {\n",
       "        vertical-align: top;\n",
       "    }\n",
       "\n",
       "    .dataframe thead th {\n",
       "        text-align: right;\n",
       "    }\n",
       "</style>\n",
       "<table border=\"1\" class=\"dataframe\">\n",
       "  <thead>\n",
       "    <tr style=\"text-align: right;\">\n",
       "      <th></th>\n",
       "      <th>artist</th>\n",
       "      <th>song</th>\n",
       "      <th>text</th>\n",
       "    </tr>\n",
       "  </thead>\n",
       "  <tbody>\n",
       "    <tr>\n",
       "      <th>837</th>\n",
       "      <td>Who</td>\n",
       "      <td>Sea And Sand</td>\n",
       "      <td>here by the sea and sand  \\r nothing ever goes...</td>\n",
       "    </tr>\n",
       "    <tr>\n",
       "      <th>4031</th>\n",
       "      <td>Eric Clapton</td>\n",
       "      <td>Anything For Your Love</td>\n",
       "      <td>god's got a plan, he's making it clear  \\r swe...</td>\n",
       "    </tr>\n",
       "    <tr>\n",
       "      <th>1793</th>\n",
       "      <td>Chris Rea</td>\n",
       "      <td>The Road To Hell (Part 2)</td>\n",
       "      <td>well i'm standing by the river  \\r but the wat...</td>\n",
       "    </tr>\n",
       "    <tr>\n",
       "      <th>393</th>\n",
       "      <td>Grand Funk Railroad</td>\n",
       "      <td>Gotta Find Me A Better Day</td>\n",
       "      <td>i been gettin' lonely, too much these days.  \\...</td>\n",
       "    </tr>\n",
       "    <tr>\n",
       "      <th>4836</th>\n",
       "      <td>Indiana Bible College</td>\n",
       "      <td>Psalm 23</td>\n",
       "      <td>chorus  \\r the lord is my shepherd, and i  \\r ...</td>\n",
       "    </tr>\n",
       "  </tbody>\n",
       "</table>\n",
       "</div>"
      ],
      "text/plain": [
       "                     artist                        song  \\\n",
       "837                     Who                Sea And Sand   \n",
       "4031           Eric Clapton      Anything For Your Love   \n",
       "1793              Chris Rea   The Road To Hell (Part 2)   \n",
       "393     Grand Funk Railroad  Gotta Find Me A Better Day   \n",
       "4836  Indiana Bible College                    Psalm 23   \n",
       "\n",
       "                                                   text  \n",
       "837   here by the sea and sand  \\r nothing ever goes...  \n",
       "4031  god's got a plan, he's making it clear  \\r swe...  \n",
       "1793  well i'm standing by the river  \\r but the wat...  \n",
       "393   i been gettin' lonely, too much these days.  \\...  \n",
       "4836  chorus  \\r the lord is my shepherd, and i  \\r ...  "
      ]
     },
     "execution_count": 135,
     "metadata": {},
     "output_type": "execute_result"
    }
   ],
   "source": [
    "df.head()"
   ]
  },
  {
   "cell_type": "markdown",
   "id": "4f4a1bb4",
   "metadata": {},
   "source": [
    "Converting text in token "
   ]
  },
  {
   "cell_type": "code",
   "execution_count": 136,
   "id": "7e413290",
   "metadata": {},
   "outputs": [],
   "source": [
    "import nltk\n",
    "from nltk.stem.porter import PorterStemmer"
   ]
  },
  {
   "cell_type": "code",
   "execution_count": 137,
   "id": "b13c1dde",
   "metadata": {},
   "outputs": [],
   "source": [
    "stem_1 = PorterStemmer()"
   ]
  },
  {
   "cell_type": "code",
   "execution_count": 138,
   "id": "a218e924",
   "metadata": {},
   "outputs": [],
   "source": [
    "def token(txt):\n",
    "    token = nltk.word_tokenize(txt)\n",
    "    s = [stem_1.stem(w)for w in token]\n",
    "    return \" \". join(s)"
   ]
  },
  {
   "cell_type": "code",
   "execution_count": 139,
   "id": "b69837e8",
   "metadata": {
    "scrolled": false
   },
   "outputs": [
    {
     "data": {
      "text/plain": [
       "837     here by the sea and sand noth ever goe as plan...\n",
       "4031    god 's got a plan , he 's make it clear sweet ...\n",
       "1793    well i 'm stand by the river but the water doe...\n",
       "393     i been gettin ' lone , too much these day . i ...\n",
       "4836    choru the lord is my shepherd , and i i shall ...\n",
       "                              ...                        \n",
       "3110    i 'm just a man.i breath and i bleed ye i got ...\n",
       "4150    see the staaaaaaar they ai n't faaaaaaar you c...\n",
       "2851    i want to vanish thi is my fondest wish to go ...\n",
       "4829    we are boy scout , trust in our honour . loyal...\n",
       "4744    oh no oh no oh no you never make me stay so ta...\n",
       "Name: text, Length: 5000, dtype: object"
      ]
     },
     "execution_count": 139,
     "metadata": {},
     "output_type": "execute_result"
    }
   ],
   "source": [
    "df['text'].apply(lambda x: token(x))"
   ]
  },
  {
   "cell_type": "code",
   "execution_count": 140,
   "id": "5d361965",
   "metadata": {},
   "outputs": [],
   "source": [
    "#token(\"\")"
   ]
  },
  {
   "cell_type": "markdown",
   "id": "212b66c6",
   "metadata": {},
   "source": [
    "Converting text and token into vectors "
   ]
  },
  {
   "cell_type": "code",
   "execution_count": 141,
   "id": "68e36a64",
   "metadata": {},
   "outputs": [],
   "source": [
    "from sklearn.feature_extraction.text import TfidfVectorizer\n",
    "#importing metric \n",
    "from sklearn.metrics.pairwise import cosine_similarity "
   ]
  },
  {
   "cell_type": "code",
   "execution_count": 142,
   "id": "a9544846",
   "metadata": {},
   "outputs": [],
   "source": [
    "tfid =TfidfVectorizer(analyzer='word', stop_words='english')"
   ]
  },
  {
   "cell_type": "code",
   "execution_count": 143,
   "id": "2c698d26",
   "metadata": {},
   "outputs": [],
   "source": [
    "matrix=  tfid.fit_transform(df['text'])"
   ]
  },
  {
   "cell_type": "code",
   "execution_count": 144,
   "id": "46f31b98",
   "metadata": {},
   "outputs": [],
   "source": [
    "similar= cosine_similarity(matrix)"
   ]
  },
  {
   "cell_type": "code",
   "execution_count": 145,
   "id": "8c852d49",
   "metadata": {},
   "outputs": [
    {
     "data": {
      "text/plain": [
       "array([1.        , 0.06333901, 0.04144369, ..., 0.00307282, 0.00917518,\n",
       "       0.01726931])"
      ]
     },
     "execution_count": 145,
     "metadata": {},
     "output_type": "execute_result"
    }
   ],
   "source": [
    "similar[0]"
   ]
  },
  {
   "cell_type": "markdown",
   "id": "e9e183b3",
   "metadata": {},
   "source": [
    "Creating the recomendation system "
   ]
  },
  {
   "cell_type": "code",
   "execution_count": 146,
   "id": "3bc01aea",
   "metadata": {},
   "outputs": [
    {
     "data": {
      "text/html": [
       "<div>\n",
       "<style scoped>\n",
       "    .dataframe tbody tr th:only-of-type {\n",
       "        vertical-align: middle;\n",
       "    }\n",
       "\n",
       "    .dataframe tbody tr th {\n",
       "        vertical-align: top;\n",
       "    }\n",
       "\n",
       "    .dataframe thead th {\n",
       "        text-align: right;\n",
       "    }\n",
       "</style>\n",
       "<table border=\"1\" class=\"dataframe\">\n",
       "  <thead>\n",
       "    <tr style=\"text-align: right;\">\n",
       "      <th></th>\n",
       "      <th>artist</th>\n",
       "      <th>song</th>\n",
       "      <th>text</th>\n",
       "    </tr>\n",
       "  </thead>\n",
       "  <tbody>\n",
       "  </tbody>\n",
       "</table>\n",
       "</div>"
      ],
      "text/plain": [
       "Empty DataFrame\n",
       "Columns: [artist, song, text]\n",
       "Index: []"
      ]
     },
     "execution_count": 146,
     "metadata": {},
     "output_type": "execute_result"
    }
   ],
   "source": [
    "df[df['song']== 'Bang']"
   ]
  },
  {
   "cell_type": "code",
   "execution_count": 150,
   "id": "c9d0233e",
   "metadata": {},
   "outputs": [],
   "source": [
    "def recommender(song_name):\n",
    "    idx = df[df['song']== song_name].index[0]\n",
    "    distance= sorted(list(enumerate(similar[idx])), reverse=True, key = lambda x:x[1])\n",
    "    song= []\n",
    "    for s_id in distance[1:5]:\n",
    "        song.append(df.iloc[s_id[0]].song)\n",
    "    return song"
   ]
  },
  {
   "cell_type": "code",
   "execution_count": 151,
   "id": "49d3ed47",
   "metadata": {},
   "outputs": [
    {
     "data": {
      "text/plain": [
       "['Back In White', 'False Alarm', 'Amlapura', 'Hey Girl']"
      ]
     },
     "execution_count": 151,
     "metadata": {},
     "output_type": "execute_result"
    }
   ],
   "source": [
    "recommender('Sea And Sand')"
   ]
  },
  {
   "cell_type": "code",
   "execution_count": 152,
   "id": "36b72e45",
   "metadata": {},
   "outputs": [],
   "source": [
    "import pickle"
   ]
  },
  {
   "cell_type": "code",
   "execution_count": 154,
   "id": "1dea42cd",
   "metadata": {},
   "outputs": [],
   "source": [
    "pickle.dump(similar,open(\"similarity\",\"wb\"))"
   ]
  },
  {
   "cell_type": "code",
   "execution_count": 156,
   "id": "eaa489b1",
   "metadata": {},
   "outputs": [],
   "source": [
    "pickle.dump(df,open(\"df\", \"wb\"))"
   ]
  },
  {
   "cell_type": "code",
   "execution_count": null,
   "id": "5317dfb5",
   "metadata": {},
   "outputs": [],
   "source": []
  }
 ],
 "metadata": {
  "kernelspec": {
   "display_name": "Python 3 (ipykernel)",
   "language": "python",
   "name": "python3"
  },
  "language_info": {
   "codemirror_mode": {
    "name": "ipython",
    "version": 3
   },
   "file_extension": ".py",
   "mimetype": "text/x-python",
   "name": "python",
   "nbconvert_exporter": "python",
   "pygments_lexer": "ipython3",
   "version": "3.11.4"
  }
 },
 "nbformat": 4,
 "nbformat_minor": 5
}
